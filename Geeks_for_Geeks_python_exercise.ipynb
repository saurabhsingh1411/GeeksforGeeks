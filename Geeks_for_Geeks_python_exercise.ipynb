{
  "nbformat": 4,
  "nbformat_minor": 0,
  "metadata": {
    "colab": {
      "name": "Geeks for Geeks_python_exercise.ipynb",
      "provenance": [],
      "authorship_tag": "ABX9TyOmDbzPRfqidHyGLfEGRsa4",
      "include_colab_link": true
    },
    "kernelspec": {
      "name": "python3",
      "display_name": "Python 3"
    }
  },
  "cells": [
    {
      "cell_type": "markdown",
      "metadata": {
        "id": "view-in-github",
        "colab_type": "text"
      },
      "source": [
        "<a href=\"https://colab.research.google.com/github/saurabhsingh1411/GeeksforGeeks/blob/main/Geeks_for_Geeks_python_exercise.ipynb\" target=\"_parent\"><img src=\"https://colab.research.google.com/assets/colab-badge.svg\" alt=\"Open In Colab\"/></a>"
      ]
    },
    {
      "cell_type": "markdown",
      "metadata": {
        "id": "tLRhv7Y_uC2L"
      },
      "source": [
        "Python Program for cube sum of first n natural **numbers** "
      ]
    },
    {
      "cell_type": "code",
      "metadata": {
        "id": "Ijyjs8LLuFiH"
      },
      "source": [
        "def sum1(n):\r\n",
        "  sum=0\r\n",
        "  for i in range(n):\r\n",
        "    sum=sum+n**3\r\n",
        "  return sum"
      ],
      "execution_count": null,
      "outputs": []
    },
    {
      "cell_type": "code",
      "metadata": {
        "colab": {
          "base_uri": "https://localhost:8080/"
        },
        "id": "b6MZzawHuWiQ",
        "outputId": "22111018-49b4-42e6-a038-7c3cde265005"
      },
      "source": [
        "sum1(10)"
      ],
      "execution_count": null,
      "outputs": [
        {
          "output_type": "execute_result",
          "data": {
            "text/plain": [
              "10000"
            ]
          },
          "metadata": {
            "tags": []
          },
          "execution_count": 6
        }
      ]
    },
    {
      "cell_type": "markdown",
      "metadata": {
        "id": "OaL8KBLRurR5"
      },
      "source": [
        "Python Program to check if given array is Monotonic\r\n",
        "\r\n",
        "Given an array A containing n integers. The task is to check whether the array is Monotonic or not. An array is monotonic if it is either monotone increasing or monotone decreasing."
      ]
    },
    {
      "cell_type": "code",
      "metadata": {
        "id": "FzzTxCoyuYfN"
      },
      "source": [
        "def montonic (num):\r\n",
        "  cnt=0\r\n",
        "  cnt2=0\r\n",
        "  for i in range(len(num)-1):\r\n",
        "    if num[i]<num[i+1] :\r\n",
        "      cnt=cnt+1\r\n",
        "    elif num[i]>num[i+1]:\r\n",
        "      cnt2=cnt2+1\r\n",
        "    else :\r\n",
        "      return False\r\n",
        "    if cnt==len(num) or cnt2==len(num):\r\n",
        "      return True\r\n",
        "    else :\r\n",
        "      return False"
      ],
      "execution_count": null,
      "outputs": []
    },
    {
      "cell_type": "code",
      "metadata": {
        "colab": {
          "base_uri": "https://localhost:8080/"
        },
        "id": "nFSi7e7GvSX2",
        "outputId": "a5dc23a5-ffdb-4e26-a0d2-415d40e2ecd9"
      },
      "source": [
        "montonic([9,3,2,1])"
      ],
      "execution_count": null,
      "outputs": [
        {
          "output_type": "execute_result",
          "data": {
            "text/plain": [
              "False"
            ]
          },
          "metadata": {
            "tags": []
          },
          "execution_count": 23
        }
      ]
    },
    {
      "cell_type": "markdown",
      "metadata": {
        "id": "epYhLQfHNoBe"
      },
      "source": [
        ""
      ]
    },
    {
      "cell_type": "code",
      "metadata": {
        "id": "_hT_Rx4ivVwa"
      },
      "source": [
        "def isMonotonic(A): \r\n",
        "  \r\n",
        "    return (all(A[i] <= A[i + 1] for i in range(len(A) - 1)) or\r\n",
        "            all(A[i] >= A[i + 1] for i in range(len(A) - 1))) "
      ],
      "execution_count": null,
      "outputs": []
    },
    {
      "cell_type": "code",
      "metadata": {
        "id": "kIvVK0Gky8jW"
      },
      "source": [
        ""
      ],
      "execution_count": null,
      "outputs": []
    },
    {
      "cell_type": "markdown",
      "metadata": {
        "id": "tsziQYhtNqQ8"
      },
      "source": [
        "Input : Geeks for Geeks\r\n",
        "Output : ['Geeks', 'for', 'Geeks']"
      ]
    },
    {
      "cell_type": "code",
      "metadata": {
        "colab": {
          "base_uri": "https://localhost:8080/"
        },
        "id": "ZZ9UzT77Qr_S",
        "outputId": "27784d1a-a41b-4472-97ca-01687ce64a96"
      },
      "source": [
        "str2='geeks for geek'\r\n",
        "\r\n",
        "str2.split()"
      ],
      "execution_count": 1,
      "outputs": [
        {
          "output_type": "execute_result",
          "data": {
            "text/plain": [
              "['geeks', 'for', 'geek']"
            ]
          },
          "metadata": {
            "tags": []
          },
          "execution_count": 1
        }
      ]
    },
    {
      "cell_type": "code",
      "metadata": {
        "colab": {
          "base_uri": "https://localhost:8080/"
        },
        "id": "JCNMsvUFQzIi",
        "outputId": "a0e48ebe-9e71-4419-a33d-12a02a5fd507"
      },
      "source": [
        "words=str2.split()\r\n",
        "words"
      ],
      "execution_count": 2,
      "outputs": [
        {
          "output_type": "execute_result",
          "data": {
            "text/plain": [
              "['geeks', 'for', 'geek']"
            ]
          },
          "metadata": {
            "tags": []
          },
          "execution_count": 2
        }
      ]
    },
    {
      "cell_type": "code",
      "metadata": {
        "id": "Hwk6IxUtRGs3"
      },
      "source": [
        "strback=' '.join(words)"
      ],
      "execution_count": 3,
      "outputs": []
    },
    {
      "cell_type": "code",
      "metadata": {
        "colab": {
          "base_uri": "https://localhost:8080/",
          "height": 35
        },
        "id": "z0MNUI22RJyi",
        "outputId": "d4d7d5c7-384c-4aea-a588-d894cb532397"
      },
      "source": [
        "strback"
      ],
      "execution_count": 5,
      "outputs": [
        {
          "output_type": "execute_result",
          "data": {
            "application/vnd.google.colaboratory.intrinsic+json": {
              "type": "string"
            },
            "text/plain": [
              "'geeks for geek'"
            ]
          },
          "metadata": {
            "tags": []
          },
          "execution_count": 5
        }
      ]
    },
    {
      "cell_type": "markdown",
      "metadata": {
        "id": "QkLsoo37Rias"
      },
      "source": [
        "Python – Replace duplicate Occurrence in String"
      ]
    },
    {
      "cell_type": "markdown",
      "metadata": {
        "id": "3gBYl0weXdUE"
      },
      "source": [
        "String slicing in Python to rotate a string\r\n",
        "\r\n",
        "Input : s = \"GeeksforGeeks\"\r\n",
        "        d = 2\r\n",
        "Output : Left Rotation  : \"eksforGeeksGe\" \r\n",
        "         Right Rotation : \"ksGeeksforGee\" \r\n",
        "\r\n",
        "\r\n",
        "Input : s = \"qwertyu\" \r\n",
        "        d = 2\r\n",
        "Output : Left rotation : \"ertyuqw\"\r\n",
        "         Right rotation : \"yuqwert\""
      ]
    },
    {
      "cell_type": "code",
      "metadata": {
        "colab": {
          "base_uri": "https://localhost:8080/",
          "height": 35
        },
        "id": "hLlhHVySXb9t",
        "outputId": "7a92f57b-f3b3-4de0-9167-8474b7275459"
      },
      "source": [
        "a='GeeksforGeeks'\r\n",
        "\r\n",
        "a[::2]"
      ],
      "execution_count": 8,
      "outputs": [
        {
          "output_type": "execute_result",
          "data": {
            "application/vnd.google.colaboratory.intrinsic+json": {
              "type": "string"
            },
            "text/plain": [
              "'GesoGes'"
            ]
          },
          "metadata": {
            "tags": []
          },
          "execution_count": 8
        }
      ]
    },
    {
      "cell_type": "code",
      "metadata": {
        "id": "v4xz5mO_RJvf"
      },
      "source": [
        "def rotate(input,d):\r\n",
        "\r\n",
        "  lfirst=input[0:d]\r\n",
        "  lsecond=input[d:]\r\n",
        "  rfirst=input[0:len(input)-d]\r\n",
        "  rsecond=input[len(input)-d:]\r\n",
        "\r\n",
        "  print('left rotation :',(lsecond+lfirst))\r\n",
        "  print('right rotation:',(rsecond+rfirst))"
      ],
      "execution_count": 10,
      "outputs": []
    },
    {
      "cell_type": "code",
      "metadata": {
        "colab": {
          "base_uri": "https://localhost:8080/"
        },
        "id": "9IDnxPrnRJs0",
        "outputId": "e65e33f8-c7d9-4861-81db-d4ac3b2d122e"
      },
      "source": [
        "rotate('hjdfjhfdsj',4)"
      ],
      "execution_count": 11,
      "outputs": [
        {
          "output_type": "stream",
          "text": [
            "left rotation : jhfdsjhjdf\n",
            "right rotation: fdsjhjdfjh\n"
          ],
          "name": "stdout"
        }
      ]
    },
    {
      "cell_type": "markdown",
      "metadata": {
        "id": "pJdfmEf2fyyN"
      },
      "source": [
        "Dictionary Programs:"
      ]
    },
    {
      "cell_type": "code",
      "metadata": {
        "id": "MbN6rOcGRJqU"
      },
      "source": [
        "# Input : {'a': 100, 'b':200, 'c':300}\r\n",
        "# Output : 600"
      ],
      "execution_count": 12,
      "outputs": []
    },
    {
      "cell_type": "code",
      "metadata": {
        "id": "H0d_gN_yRJm2"
      },
      "source": [
        "#sum of all items in dictionary "
      ],
      "execution_count": 13,
      "outputs": []
    },
    {
      "cell_type": "code",
      "metadata": {
        "id": "10GMgoTWRJj7"
      },
      "source": [
        "Input = {'a': 100, 'b':200, 'c':300}\r\n"
      ],
      "execution_count": 20,
      "outputs": []
    },
    {
      "cell_type": "code",
      "metadata": {
        "id": "Dt4NSVtKgCbp",
        "outputId": "e1976614-4ead-4712-c14b-5e964385bea3",
        "colab": {
          "base_uri": "https://localhost:8080/"
        }
      },
      "source": [
        "sum=0\r\n",
        "for i in Input:\r\n",
        "  sum=sum+Input[i]\r\n",
        "  \r\n",
        "print(sum)"
      ],
      "execution_count": 25,
      "outputs": [
        {
          "output_type": "stream",
          "text": [
            "600\n"
          ],
          "name": "stdout"
        }
      ]
    },
    {
      "cell_type": "code",
      "metadata": {
        "id": "oou3A_WRgcUw"
      },
      "source": [
        "#Python | Ways to remove a key from dictionary"
      ],
      "execution_count": 26,
      "outputs": []
    },
    {
      "cell_type": "code",
      "metadata": {
        "id": "3-SJgb9rhKth"
      },
      "source": [
        "del Input['a']"
      ],
      "execution_count": 27,
      "outputs": []
    },
    {
      "cell_type": "code",
      "metadata": {
        "id": "JAg2926EjHTp",
        "outputId": "32f75860-c43f-4a30-8a03-cbaf69fe43ca",
        "colab": {
          "base_uri": "https://localhost:8080/"
        }
      },
      "source": [
        "Input"
      ],
      "execution_count": 28,
      "outputs": [
        {
          "output_type": "execute_result",
          "data": {
            "text/plain": [
              "{'b': 200, 'c': 300}"
            ]
          },
          "metadata": {
            "tags": []
          },
          "execution_count": 28
        }
      ]
    },
    {
      "cell_type": "code",
      "metadata": {
        "id": "upWU1jztjIUZ",
        "outputId": "db149c00-3fd5-4479-fad0-9024f959bc06",
        "colab": {
          "base_uri": "https://localhost:8080/"
        }
      },
      "source": [
        "Input.pop('b')"
      ],
      "execution_count": 29,
      "outputs": [
        {
          "output_type": "execute_result",
          "data": {
            "text/plain": [
              "200"
            ]
          },
          "metadata": {
            "tags": []
          },
          "execution_count": 29
        }
      ]
    },
    {
      "cell_type": "code",
      "metadata": {
        "id": "nrPWNllkjZ-U",
        "outputId": "0cf4415d-69a0-4889-df2e-f5b92341e92a",
        "colab": {
          "base_uri": "https://localhost:8080/"
        }
      },
      "source": [
        "Input"
      ],
      "execution_count": 30,
      "outputs": [
        {
          "output_type": "execute_result",
          "data": {
            "text/plain": [
              "{'c': 300}"
            ]
          },
          "metadata": {
            "tags": []
          },
          "execution_count": 30
        }
      ]
    },
    {
      "cell_type": "code",
      "metadata": {
        "id": "ITS5W2jDjbtQ"
      },
      "source": [
        "#Python | Merging two Dictionaries"
      ],
      "execution_count": 31,
      "outputs": []
    },
    {
      "cell_type": "code",
      "metadata": {
        "id": "edNmVHGhjjmZ"
      },
      "source": [
        "def Merge(dict1,dict2):\r\n",
        "  return dict2.update(dict1)"
      ],
      "execution_count": 32,
      "outputs": []
    },
    {
      "cell_type": "code",
      "metadata": {
        "id": "--pdRM6NjkQw"
      },
      "source": [
        "dict1 = {'a': 10, 'b': 8}\r\n",
        "dict2 = {'d': 6, 'c': 4}"
      ],
      "execution_count": 33,
      "outputs": []
    },
    {
      "cell_type": "code",
      "metadata": {
        "id": "OIFijGX8jkTq",
        "outputId": "aca1731a-8865-4415-8e3e-10519b55bbbf",
        "colab": {
          "base_uri": "https://localhost:8080/"
        }
      },
      "source": [
        "# This return None\r\n",
        "print(Merge(dict1, dict2))\r\n",
        " \r\n",
        "# changes made in dict2\r\n",
        "print(dict2)"
      ],
      "execution_count": 34,
      "outputs": [
        {
          "output_type": "stream",
          "text": [
            "None\n",
            "{'d': 6, 'c': 4, 'a': 10, 'b': 8}\n"
          ],
          "name": "stdout"
        }
      ]
    },
    {
      "cell_type": "code",
      "metadata": {
        "id": "S8Rh2REejkWX"
      },
      "source": [
        "# sample Tuples \r\n",
        "Tuple1 = (\"A\", 1, \"B\", 2, \"C\", 3) \r\n",
        "Tuple2 = (\"Geek1\", \"Raju\", \"Geek2\", \"Nikhil\", \"Geek3\", \"Deepanshu\") \r\n",
        "Tuple3 = ((1, \"Lion\"), ( 2, \"Tiger\"), (3, \"Fox\"), (4, \"Wolf\")) \r\n",
        "  \r\n",
        "# print the sizes of sample Tuples \r\n",
        "print(\"Size of Tuple1: \" + str(sys.getsizeof(Tuple1)) + \"bytes\") \r\n",
        "print(\"Size of Tuple2: \" + str(sys.getsizeof(Tuple2)) + \"bytes\") \r\n",
        "print(\"Size of Tuple3: \" + str(sys.getsizeof(Tuple3)) + \"bytes\") "
      ],
      "execution_count": null,
      "outputs": []
    },
    {
      "cell_type": "code",
      "metadata": {
        "id": "6Pf_wHLijkZR"
      },
      "source": [
        "tuple1 = (\"A\", 1, \"B\", 2, \"C\", 3) "
      ],
      "execution_count": 35,
      "outputs": []
    },
    {
      "cell_type": "code",
      "metadata": {
        "id": "HU-VOM5Yl9zj",
        "outputId": "0e61bd74-3018-49e0-b858-b48de51aba3e",
        "colab": {
          "base_uri": "https://localhost:8080/"
        }
      },
      "source": [
        "import sys\r\n",
        "sys.getsizeof(tuple1)"
      ],
      "execution_count": 37,
      "outputs": [
        {
          "output_type": "execute_result",
          "data": {
            "text/plain": [
              "104"
            ]
          },
          "metadata": {
            "tags": []
          },
          "execution_count": 37
        }
      ]
    },
    {
      "cell_type": "code",
      "metadata": {
        "id": "J6CoSP_QmDVG"
      },
      "source": [
        ""
      ],
      "execution_count": null,
      "outputs": []
    },
    {
      "cell_type": "code",
      "metadata": {
        "id": "zeOQPinbmTeN"
      },
      "source": [
        ""
      ],
      "execution_count": null,
      "outputs": []
    },
    {
      "cell_type": "code",
      "metadata": {
        "id": "LTd8B3S-mTWE"
      },
      "source": [
        ""
      ],
      "execution_count": null,
      "outputs": []
    },
    {
      "cell_type": "code",
      "metadata": {
        "id": "4ivHtItMmTS0"
      },
      "source": [
        ""
      ],
      "execution_count": null,
      "outputs": []
    },
    {
      "cell_type": "code",
      "metadata": {
        "id": "Zgs3eLGRmTMc"
      },
      "source": [
        ""
      ],
      "execution_count": null,
      "outputs": []
    },
    {
      "cell_type": "code",
      "metadata": {
        "id": "vEXXwW-lmTJb"
      },
      "source": [
        ""
      ],
      "execution_count": null,
      "outputs": []
    },
    {
      "cell_type": "code",
      "metadata": {
        "id": "gAwyPtwVmTCO"
      },
      "source": [
        ""
      ],
      "execution_count": null,
      "outputs": []
    }
  ]
}