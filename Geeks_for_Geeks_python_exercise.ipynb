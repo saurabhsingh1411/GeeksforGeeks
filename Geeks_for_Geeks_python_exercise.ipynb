{
  "nbformat": 4,
  "nbformat_minor": 0,
  "metadata": {
    "colab": {
      "name": "Geeks for Geeks_python_exercise.ipynb",
      "provenance": [],
      "authorship_tag": "ABX9TyM7TW07A+QCPqsyzw424Txn",
      "include_colab_link": true
    },
    "kernelspec": {
      "name": "python3",
      "display_name": "Python 3"
    }
  },
  "cells": [
    {
      "cell_type": "markdown",
      "metadata": {
        "id": "view-in-github",
        "colab_type": "text"
      },
      "source": [
        "<a href=\"https://colab.research.google.com/github/saurabhsingh1411/GeeksforGeeks/blob/main/Geeks_for_Geeks_python_exercise.ipynb\" target=\"_parent\"><img src=\"https://colab.research.google.com/assets/colab-badge.svg\" alt=\"Open In Colab\"/></a>"
      ]
    },
    {
      "cell_type": "markdown",
      "metadata": {
        "id": "tLRhv7Y_uC2L"
      },
      "source": [
        "Python Program for cube sum of first n natural **numbers** "
      ]
    },
    {
      "cell_type": "code",
      "metadata": {
        "id": "Ijyjs8LLuFiH"
      },
      "source": [
        "def sum1(n):\n",
        "  sum=0\n",
        "  for i in range(n):\n",
        "    sum=sum+n**3\n",
        "  return sum"
      ],
      "execution_count": null,
      "outputs": []
    },
    {
      "cell_type": "code",
      "metadata": {
        "colab": {
          "base_uri": "https://localhost:8080/"
        },
        "id": "b6MZzawHuWiQ",
        "outputId": "22111018-49b4-42e6-a038-7c3cde265005"
      },
      "source": [
        "sum1(10)"
      ],
      "execution_count": null,
      "outputs": [
        {
          "output_type": "execute_result",
          "data": {
            "text/plain": [
              "10000"
            ]
          },
          "metadata": {
            "tags": []
          },
          "execution_count": 6
        }
      ]
    },
    {
      "cell_type": "markdown",
      "metadata": {
        "id": "OaL8KBLRurR5"
      },
      "source": [
        "Python Program to check if given array is Monotonic\n",
        "\n",
        "Given an array A containing n integers. The task is to check whether the array is Monotonic or not. An array is monotonic if it is either monotone increasing or monotone decreasing."
      ]
    },
    {
      "cell_type": "code",
      "metadata": {
        "id": "FzzTxCoyuYfN"
      },
      "source": [
        "def montonic (num):\n",
        "  cnt=0\n",
        "  cnt2=0\n",
        "  for i in range(len(num)-1):\n",
        "    if num[i]<num[i+1] :\n",
        "      cnt=cnt+1\n",
        "    elif num[i]>num[i+1]:\n",
        "      cnt2=cnt2+1\n",
        "    else :\n",
        "      return False\n",
        "    if cnt==len(num) or cnt2==len(num):\n",
        "      return True\n",
        "    else :\n",
        "      return False"
      ],
      "execution_count": null,
      "outputs": []
    },
    {
      "cell_type": "code",
      "metadata": {
        "colab": {
          "base_uri": "https://localhost:8080/"
        },
        "id": "nFSi7e7GvSX2",
        "outputId": "a5dc23a5-ffdb-4e26-a0d2-415d40e2ecd9"
      },
      "source": [
        "montonic([9,3,2,1])"
      ],
      "execution_count": null,
      "outputs": [
        {
          "output_type": "execute_result",
          "data": {
            "text/plain": [
              "False"
            ]
          },
          "metadata": {
            "tags": []
          },
          "execution_count": 23
        }
      ]
    },
    {
      "cell_type": "markdown",
      "metadata": {
        "id": "epYhLQfHNoBe"
      },
      "source": [
        ""
      ]
    },
    {
      "cell_type": "code",
      "metadata": {
        "id": "_hT_Rx4ivVwa"
      },
      "source": [
        "def isMonotonic(A): \n",
        "  \n",
        "    return (all(A[i] <= A[i + 1] for i in range(len(A) - 1)) or\n",
        "            all(A[i] >= A[i + 1] for i in range(len(A) - 1))) "
      ],
      "execution_count": null,
      "outputs": []
    },
    {
      "cell_type": "code",
      "metadata": {
        "id": "kIvVK0Gky8jW"
      },
      "source": [
        ""
      ],
      "execution_count": null,
      "outputs": []
    },
    {
      "cell_type": "markdown",
      "metadata": {
        "id": "tsziQYhtNqQ8"
      },
      "source": [
        "Input : Geeks for Geeks\n",
        "Output : ['Geeks', 'for', 'Geeks']"
      ]
    },
    {
      "cell_type": "code",
      "metadata": {
        "colab": {
          "base_uri": "https://localhost:8080/"
        },
        "id": "ZZ9UzT77Qr_S",
        "outputId": "27784d1a-a41b-4472-97ca-01687ce64a96"
      },
      "source": [
        "str2='geeks for geek'\n",
        "\n",
        "str2.split()"
      ],
      "execution_count": null,
      "outputs": [
        {
          "output_type": "execute_result",
          "data": {
            "text/plain": [
              "['geeks', 'for', 'geek']"
            ]
          },
          "metadata": {
            "tags": []
          },
          "execution_count": 1
        }
      ]
    },
    {
      "cell_type": "code",
      "metadata": {
        "colab": {
          "base_uri": "https://localhost:8080/"
        },
        "id": "JCNMsvUFQzIi",
        "outputId": "a0e48ebe-9e71-4419-a33d-12a02a5fd507"
      },
      "source": [
        "words=str2.split()\n",
        "words"
      ],
      "execution_count": null,
      "outputs": [
        {
          "output_type": "execute_result",
          "data": {
            "text/plain": [
              "['geeks', 'for', 'geek']"
            ]
          },
          "metadata": {
            "tags": []
          },
          "execution_count": 2
        }
      ]
    },
    {
      "cell_type": "code",
      "metadata": {
        "id": "Hwk6IxUtRGs3"
      },
      "source": [
        "strback=' '.join(words)"
      ],
      "execution_count": null,
      "outputs": []
    },
    {
      "cell_type": "code",
      "metadata": {
        "colab": {
          "base_uri": "https://localhost:8080/",
          "height": 35
        },
        "id": "z0MNUI22RJyi",
        "outputId": "d4d7d5c7-384c-4aea-a588-d894cb532397"
      },
      "source": [
        "strback"
      ],
      "execution_count": null,
      "outputs": [
        {
          "output_type": "execute_result",
          "data": {
            "application/vnd.google.colaboratory.intrinsic+json": {
              "type": "string"
            },
            "text/plain": [
              "'geeks for geek'"
            ]
          },
          "metadata": {
            "tags": []
          },
          "execution_count": 5
        }
      ]
    },
    {
      "cell_type": "markdown",
      "metadata": {
        "id": "QkLsoo37Rias"
      },
      "source": [
        "Python – Replace duplicate Occurrence in String"
      ]
    },
    {
      "cell_type": "markdown",
      "metadata": {
        "id": "3gBYl0weXdUE"
      },
      "source": [
        "String slicing in Python to rotate a string\n",
        "\n",
        "Input : s = \"GeeksforGeeks\"\n",
        "        d = 2\n",
        "Output : Left Rotation  : \"eksforGeeksGe\" \n",
        "         Right Rotation : \"ksGeeksforGee\" \n",
        "\n",
        "\n",
        "Input : s = \"qwertyu\" \n",
        "        d = 2\n",
        "Output : Left rotation : \"ertyuqw\"\n",
        "         Right rotation : \"yuqwert\""
      ]
    },
    {
      "cell_type": "code",
      "metadata": {
        "colab": {
          "base_uri": "https://localhost:8080/",
          "height": 35
        },
        "id": "hLlhHVySXb9t",
        "outputId": "7a92f57b-f3b3-4de0-9167-8474b7275459"
      },
      "source": [
        "a='GeeksforGeeks'\n",
        "\n",
        "a[::2]"
      ],
      "execution_count": null,
      "outputs": [
        {
          "output_type": "execute_result",
          "data": {
            "application/vnd.google.colaboratory.intrinsic+json": {
              "type": "string"
            },
            "text/plain": [
              "'GesoGes'"
            ]
          },
          "metadata": {
            "tags": []
          },
          "execution_count": 8
        }
      ]
    },
    {
      "cell_type": "code",
      "metadata": {
        "id": "v4xz5mO_RJvf"
      },
      "source": [
        "def rotate(input,d):\n",
        "\n",
        "  lfirst=input[0:d]\n",
        "  lsecond=input[d:]\n",
        "  rfirst=input[0:len(input)-d]\n",
        "  rsecond=input[len(input)-d:]\n",
        "\n",
        "  print('left rotation :',(lsecond+lfirst))\n",
        "  print('right rotation:',(rsecond+rfirst))"
      ],
      "execution_count": null,
      "outputs": []
    },
    {
      "cell_type": "code",
      "metadata": {
        "colab": {
          "base_uri": "https://localhost:8080/"
        },
        "id": "9IDnxPrnRJs0",
        "outputId": "e65e33f8-c7d9-4861-81db-d4ac3b2d122e"
      },
      "source": [
        "rotate('hjdfjhfdsj',4)"
      ],
      "execution_count": null,
      "outputs": [
        {
          "output_type": "stream",
          "text": [
            "left rotation : jhfdsjhjdf\n",
            "right rotation: fdsjhjdfjh\n"
          ],
          "name": "stdout"
        }
      ]
    },
    {
      "cell_type": "markdown",
      "metadata": {
        "id": "pJdfmEf2fyyN"
      },
      "source": [
        "Dictionary Programs:"
      ]
    },
    {
      "cell_type": "code",
      "metadata": {
        "id": "MbN6rOcGRJqU"
      },
      "source": [
        "# Input : {'a': 100, 'b':200, 'c':300}\n",
        "# Output : 600"
      ],
      "execution_count": null,
      "outputs": []
    },
    {
      "cell_type": "code",
      "metadata": {
        "id": "H0d_gN_yRJm2"
      },
      "source": [
        "#sum of all items in dictionary "
      ],
      "execution_count": null,
      "outputs": []
    },
    {
      "cell_type": "code",
      "metadata": {
        "id": "10GMgoTWRJj7"
      },
      "source": [
        "Input = {'a': 100, 'b':200, 'c':300}\n"
      ],
      "execution_count": null,
      "outputs": []
    },
    {
      "cell_type": "code",
      "metadata": {
        "id": "Dt4NSVtKgCbp",
        "colab": {
          "base_uri": "https://localhost:8080/"
        },
        "outputId": "e1976614-4ead-4712-c14b-5e964385bea3"
      },
      "source": [
        "sum=0\n",
        "for i in Input:\n",
        "  sum=sum+Input[i]\n",
        "  \n",
        "print(sum)"
      ],
      "execution_count": null,
      "outputs": [
        {
          "output_type": "stream",
          "text": [
            "600\n"
          ],
          "name": "stdout"
        }
      ]
    },
    {
      "cell_type": "code",
      "metadata": {
        "id": "oou3A_WRgcUw"
      },
      "source": [
        "#Python | Ways to remove a key from dictionary"
      ],
      "execution_count": null,
      "outputs": []
    },
    {
      "cell_type": "code",
      "metadata": {
        "id": "3-SJgb9rhKth"
      },
      "source": [
        "del Input['a']"
      ],
      "execution_count": null,
      "outputs": []
    },
    {
      "cell_type": "code",
      "metadata": {
        "id": "JAg2926EjHTp",
        "colab": {
          "base_uri": "https://localhost:8080/"
        },
        "outputId": "32f75860-c43f-4a30-8a03-cbaf69fe43ca"
      },
      "source": [
        "Input"
      ],
      "execution_count": null,
      "outputs": [
        {
          "output_type": "execute_result",
          "data": {
            "text/plain": [
              "{'b': 200, 'c': 300}"
            ]
          },
          "metadata": {
            "tags": []
          },
          "execution_count": 28
        }
      ]
    },
    {
      "cell_type": "code",
      "metadata": {
        "id": "upWU1jztjIUZ",
        "colab": {
          "base_uri": "https://localhost:8080/"
        },
        "outputId": "db149c00-3fd5-4479-fad0-9024f959bc06"
      },
      "source": [
        "Input.pop('b')"
      ],
      "execution_count": null,
      "outputs": [
        {
          "output_type": "execute_result",
          "data": {
            "text/plain": [
              "200"
            ]
          },
          "metadata": {
            "tags": []
          },
          "execution_count": 29
        }
      ]
    },
    {
      "cell_type": "code",
      "metadata": {
        "id": "nrPWNllkjZ-U",
        "colab": {
          "base_uri": "https://localhost:8080/"
        },
        "outputId": "0cf4415d-69a0-4889-df2e-f5b92341e92a"
      },
      "source": [
        "Input"
      ],
      "execution_count": null,
      "outputs": [
        {
          "output_type": "execute_result",
          "data": {
            "text/plain": [
              "{'c': 300}"
            ]
          },
          "metadata": {
            "tags": []
          },
          "execution_count": 30
        }
      ]
    },
    {
      "cell_type": "code",
      "metadata": {
        "id": "ITS5W2jDjbtQ"
      },
      "source": [
        "#Python | Merging two Dictionaries"
      ],
      "execution_count": null,
      "outputs": []
    },
    {
      "cell_type": "code",
      "metadata": {
        "id": "edNmVHGhjjmZ"
      },
      "source": [
        "def Merge(dict1,dict2):\n",
        "  return dict2.update(dict1)"
      ],
      "execution_count": null,
      "outputs": []
    },
    {
      "cell_type": "code",
      "metadata": {
        "id": "--pdRM6NjkQw"
      },
      "source": [
        "dict1 = {'a': 10, 'b': 8}\n",
        "dict2 = {'d': 6, 'c': 4}"
      ],
      "execution_count": null,
      "outputs": []
    },
    {
      "cell_type": "code",
      "metadata": {
        "id": "OIFijGX8jkTq",
        "colab": {
          "base_uri": "https://localhost:8080/"
        },
        "outputId": "aca1731a-8865-4415-8e3e-10519b55bbbf"
      },
      "source": [
        "# This return None\n",
        "print(Merge(dict1, dict2))\n",
        " \n",
        "# changes made in dict2\n",
        "print(dict2)"
      ],
      "execution_count": null,
      "outputs": [
        {
          "output_type": "stream",
          "text": [
            "None\n",
            "{'d': 6, 'c': 4, 'a': 10, 'b': 8}\n"
          ],
          "name": "stdout"
        }
      ]
    },
    {
      "cell_type": "code",
      "metadata": {
        "id": "S8Rh2REejkWX"
      },
      "source": [
        "# sample Tuples \n",
        "Tuple1 = (\"A\", 1, \"B\", 2, \"C\", 3) \n",
        "Tuple2 = (\"Geek1\", \"Raju\", \"Geek2\", \"Nikhil\", \"Geek3\", \"Deepanshu\") \n",
        "Tuple3 = ((1, \"Lion\"), ( 2, \"Tiger\"), (3, \"Fox\"), (4, \"Wolf\")) \n",
        "  \n",
        "# print the sizes of sample Tuples \n",
        "print(\"Size of Tuple1: \" + str(sys.getsizeof(Tuple1)) + \"bytes\") \n",
        "print(\"Size of Tuple2: \" + str(sys.getsizeof(Tuple2)) + \"bytes\") \n",
        "print(\"Size of Tuple3: \" + str(sys.getsizeof(Tuple3)) + \"bytes\") "
      ],
      "execution_count": null,
      "outputs": []
    },
    {
      "cell_type": "code",
      "metadata": {
        "id": "6Pf_wHLijkZR"
      },
      "source": [
        "tuple1 = (\"A\", 1, \"B\", 2, \"C\", 3) "
      ],
      "execution_count": null,
      "outputs": []
    },
    {
      "cell_type": "code",
      "metadata": {
        "id": "HU-VOM5Yl9zj",
        "colab": {
          "base_uri": "https://localhost:8080/"
        },
        "outputId": "0e61bd74-3018-49e0-b858-b48de51aba3e"
      },
      "source": [
        "import sys\n",
        "sys.getsizeof(tuple1)"
      ],
      "execution_count": null,
      "outputs": [
        {
          "output_type": "execute_result",
          "data": {
            "text/plain": [
              "104"
            ]
          },
          "metadata": {
            "tags": []
          },
          "execution_count": 37
        }
      ]
    },
    {
      "cell_type": "code",
      "metadata": {
        "id": "J6CoSP_QmDVG"
      },
      "source": [
        "# #Python | Program to print duplicates from a list of integers\n",
        "\n",
        "# Input : list = [10, 20, 30, 20, 20, 30, 40, 50, -20, 60, 60, -20, -20]\n",
        "# Output : output_list = [20, 30, -20, 60]"
      ],
      "execution_count": 1,
      "outputs": []
    },
    {
      "cell_type": "code",
      "metadata": {
        "id": "zeOQPinbmTeN",
        "colab": {
          "base_uri": "https://localhost:8080/"
        },
        "outputId": "46eafb25-fa6f-464b-e704-2f246d794df5"
      },
      "source": [
        "my_list=[10, 20, 30, 20, 20, 30, 40, 50, -20, 60, 60, -20, -20]\n",
        "dup_list=[]\n",
        "for i in range(len(my_list)) : \n",
        "  for j in range(i+1,len(my_list)):\n",
        "    if my_list[i]==my_list[j] and my_list[i] not in dup_list:\n",
        "      dup_list.append(my_list[i])\n",
        "\n",
        "print(dup_list)"
      ],
      "execution_count": 7,
      "outputs": [
        {
          "output_type": "stream",
          "text": [
            "[20, 30, -20, 60]\n"
          ],
          "name": "stdout"
        }
      ]
    },
    {
      "cell_type": "code",
      "metadata": {
        "id": "LTd8B3S-mTWE"
      },
      "source": [
        "# my_list=[10, 20, 30, 20, 20, 30, 40, 50, -20, 60, 60, -20, -20]\n",
        "# dup_list=[]\n",
        "\n",
        "# for i in my_list :\n",
        "#   if i not in dup_list:\n",
        "#     dup_list.append(i)"
      ],
      "execution_count": 9,
      "outputs": []
    },
    {
      "cell_type": "code",
      "metadata": {
        "id": "4ivHtItMmTS0"
      },
      "source": [
        "# Python | Sum of number digits in List"
      ],
      "execution_count": 10,
      "outputs": []
    },
    {
      "cell_type": "code",
      "metadata": {
        "id": "Zgs3eLGRmTMc",
        "colab": {
          "base_uri": "https://localhost:8080/"
        },
        "outputId": "0e924846-73fe-4d3f-9be2-877d097d6dd6"
      },
      "source": [
        "my_list=[10, 20, 30, 20, 20, 30, 40, 50, -20, 60, 60, -20, -20]\n",
        "sum=0\n",
        "for i in my_list:\n",
        "  sum=sum+i \n",
        "\n",
        "print(sum)"
      ],
      "execution_count": 12,
      "outputs": [
        {
          "output_type": "stream",
          "text": [
            "280\n"
          ],
          "name": "stdout"
        }
      ]
    },
    {
      "cell_type": "code",
      "metadata": {
        "id": "vEXXwW-lmTJb"
      },
      "source": [
        "#Program to check if a string contains any special character"
      ],
      "execution_count": 13,
      "outputs": []
    },
    {
      "cell_type": "code",
      "metadata": {
        "id": "gAwyPtwVmTCO",
        "colab": {
          "base_uri": "https://localhost:8080/"
        },
        "outputId": "cb73624f-8cf3-4642-b7dc-74ab448bf6a6"
      },
      "source": [
        "string = \"Geeks$For$Geeks\"\n",
        "\n",
        "spe_char=['@','_','!','#','$','%','^','&','*','(',')','<','>','?','/','|']\n",
        "\n",
        "for i in string :\n",
        "  if i  in spe_char:\n",
        "    print('special charater present')\n",
        "    break\n",
        "  else : \n",
        "    print('special charater not presemt ')\n",
        "    break"
      ],
      "execution_count": 25,
      "outputs": [
        {
          "output_type": "stream",
          "text": [
            "special charater not presemt \n"
          ],
          "name": "stdout"
        }
      ]
    },
    {
      "cell_type": "code",
      "metadata": {
        "id": "0eHh64bHF8ca"
      },
      "source": [
        "# 1) Below is the inverted star pattern of size n=5 \n",
        "#   (Because there are 5 horizontal lines\n",
        "#    or rows consist of stars). \n",
        "\n",
        "#    *****\n",
        "#     ****\n",
        "#      ***\n",
        "#       **\n",
        "#        *"
      ],
      "execution_count": 26,
      "outputs": []
    },
    {
      "cell_type": "code",
      "metadata": {
        "colab": {
          "base_uri": "https://localhost:8080/"
        },
        "id": "IRjQcKh8HkdC",
        "outputId": "58b2fda0-ab7e-49f2-f6e3-1db9cf28ddf1"
      },
      "source": [
        "for i in range(5,0,-1):\n",
        "\n",
        "  print((5-i)*' '+i*'*')"
      ],
      "execution_count": 45,
      "outputs": [
        {
          "output_type": "stream",
          "text": [
            "*****\n",
            " ****\n",
            "  ***\n",
            "   **\n",
            "    *\n"
          ],
          "name": "stdout"
        }
      ]
    },
    {
      "cell_type": "code",
      "metadata": {
        "id": "ARexh8v7LEe4",
        "outputId": "44178949-e0a1-4c7f-af5f-508927446958",
        "colab": {
          "base_uri": "https://localhost:8080/"
        }
      },
      "source": [
        "for i in range(6,0,-1):\n",
        "  print(i)"
      ],
      "execution_count": 38,
      "outputs": [
        {
          "output_type": "stream",
          "text": [
            "6\n",
            "5\n",
            "4\n",
            "3\n",
            "2\n",
            "1\n"
          ],
          "name": "stdout"
        }
      ]
    },
    {
      "cell_type": "code",
      "metadata": {
        "id": "O-8UBdkWNFr4"
      },
      "source": [
        ""
      ],
      "execution_count": null,
      "outputs": []
    }
  ]
}