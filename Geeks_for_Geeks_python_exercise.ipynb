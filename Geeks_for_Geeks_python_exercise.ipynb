{
  "nbformat": 4,
  "nbformat_minor": 0,
  "metadata": {
    "colab": {
      "name": "Geeks for Geeks_python_exercise.ipynb",
      "provenance": [],
      "authorship_tag": "ABX9TyPHcqSPHjm3FETAFiEtpSlx",
      "include_colab_link": true
    },
    "kernelspec": {
      "name": "python3",
      "display_name": "Python 3"
    }
  },
  "cells": [
    {
      "cell_type": "markdown",
      "metadata": {
        "id": "view-in-github",
        "colab_type": "text"
      },
      "source": [
        "<a href=\"https://colab.research.google.com/github/saurabhsingh1411/GeeksforGeeks/blob/main/Geeks_for_Geeks_python_exercise.ipynb\" target=\"_parent\"><img src=\"https://colab.research.google.com/assets/colab-badge.svg\" alt=\"Open In Colab\"/></a>"
      ]
    },
    {
      "cell_type": "markdown",
      "metadata": {
        "id": "tLRhv7Y_uC2L"
      },
      "source": [
        "Python Program for cube sum of first n natural **numbers** "
      ]
    },
    {
      "cell_type": "code",
      "metadata": {
        "id": "Ijyjs8LLuFiH"
      },
      "source": [
        "def sum1(n):\r\n",
        "  sum=0\r\n",
        "  for i in range(n):\r\n",
        "    sum=sum+n**3\r\n",
        "  return sum"
      ],
      "execution_count": null,
      "outputs": []
    },
    {
      "cell_type": "code",
      "metadata": {
        "colab": {
          "base_uri": "https://localhost:8080/"
        },
        "id": "b6MZzawHuWiQ",
        "outputId": "22111018-49b4-42e6-a038-7c3cde265005"
      },
      "source": [
        "sum1(10)"
      ],
      "execution_count": null,
      "outputs": [
        {
          "output_type": "execute_result",
          "data": {
            "text/plain": [
              "10000"
            ]
          },
          "metadata": {
            "tags": []
          },
          "execution_count": 6
        }
      ]
    },
    {
      "cell_type": "markdown",
      "metadata": {
        "id": "OaL8KBLRurR5"
      },
      "source": [
        "Python Program to check if given array is Monotonic\r\n",
        "\r\n",
        "Given an array A containing n integers. The task is to check whether the array is Monotonic or not. An array is monotonic if it is either monotone increasing or monotone decreasing."
      ]
    },
    {
      "cell_type": "code",
      "metadata": {
        "id": "FzzTxCoyuYfN"
      },
      "source": [
        "def montonic (num):\r\n",
        "  cnt=0\r\n",
        "  cnt2=0\r\n",
        "  for i in range(len(num)-1):\r\n",
        "    if num[i]<num[i+1] :\r\n",
        "      cnt=cnt+1\r\n",
        "    elif num[i]>num[i+1]:\r\n",
        "      cnt2=cnt2+1\r\n",
        "    else :\r\n",
        "      return False\r\n",
        "    if cnt==len(num) or cnt2==len(num):\r\n",
        "      return True\r\n",
        "    else :\r\n",
        "      return False"
      ],
      "execution_count": null,
      "outputs": []
    },
    {
      "cell_type": "code",
      "metadata": {
        "colab": {
          "base_uri": "https://localhost:8080/"
        },
        "id": "nFSi7e7GvSX2",
        "outputId": "a5dc23a5-ffdb-4e26-a0d2-415d40e2ecd9"
      },
      "source": [
        "montonic([9,3,2,1])"
      ],
      "execution_count": null,
      "outputs": [
        {
          "output_type": "execute_result",
          "data": {
            "text/plain": [
              "False"
            ]
          },
          "metadata": {
            "tags": []
          },
          "execution_count": 23
        }
      ]
    },
    {
      "cell_type": "code",
      "metadata": {
        "id": "_hT_Rx4ivVwa"
      },
      "source": [
        "def isMonotonic(A): \r\n",
        "  \r\n",
        "    return (all(A[i] <= A[i + 1] for i in range(len(A) - 1)) or\r\n",
        "            all(A[i] >= A[i + 1] for i in range(len(A) - 1))) "
      ],
      "execution_count": null,
      "outputs": []
    },
    {
      "cell_type": "code",
      "metadata": {
        "id": "kIvVK0Gky8jW"
      },
      "source": [
        ""
      ],
      "execution_count": null,
      "outputs": []
    }
  ]
}